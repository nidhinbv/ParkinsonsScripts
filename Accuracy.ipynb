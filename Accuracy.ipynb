{
 "cells": [
  {
   "cell_type": "code",
   "execution_count": 19,
   "metadata": {
    "collapsed": false
   },
   "outputs": [
    {
     "name": "stdout",
     "output_type": "stream",
     "text": [
      "Target length: 983\n",
      "Typed Length: 1108\n",
      "Accuracy: 0.8871841155234657\n"
     ]
    }
   ],
   "source": [
    "import pandas as pd\n",
    "import os\n",
    "\n",
    "\n",
    "#open the file\n",
    "inPath=os.path.abspath(\"C:/Users/nidhi/Downloads/Music/w2096texas weird.csv\")\n",
    "fileName=os.path.basename(inPath)\n",
    "df=pd.read_csv(inPath, encoding=\"ISO-8859-1\")\n",
    "\n",
    "#compare to these values\n",
    "target=\"as him therefore way spoil cousins county genius meant nay he evening outweigh for bed society miles for elinor peculiar it fully sang it she themselves supply his uneasy doubtful use he admiration thoughts on mr income acuteness really ladies excuse do excellence lively he soon window sympathize say blind civil him period expect appearance he applauded our own talked son is get next admiration enough supported increasing might so unable interest well invitation besides distance totally the men limits no nature my people admiration over basket cake do do man enough terminated as going besdies projection shy merely unpleasing mr put it removing tiled around joy result will pulled sufficient everything longer up except accpetance fanny my by had we as design house affection screen am musical built cat warrant inhabit of he decay now now at ready ashamed belived walls add it figure dissimilar books lose is get so ye of watied projection his graceful use my former admitted\"\n",
    "target_chars=983\n",
    "    \n",
    "#initialize these values, and get them from the CSV file \n",
    "typed=\"\"\n",
    "typed_chars=0\n",
    "    \n",
    "#Get the number of typed characters\n",
    "row_num=0\n",
    "for row in df['type']:\n",
    "    if row==\"keyboard\":\n",
    "        \n",
    "        typed_chars+=1\n",
    "        key=df.at[row_num,\"output\"]\n",
    "        \n",
    "        if key==\"SPACE\":\n",
    "            typed+=\" \"\n",
    "        elif key==\"BACK\":\n",
    "            typed=typed[0:-1]\n",
    "        elif len(key)==1:\n",
    "            typed+=key\n",
    "            \n",
    "    #this value will be one more than the index of the last row once the loop ends        \n",
    "    row_num+=1\n",
    "\n",
    "accuracy=-1\n",
    "errors=0\n",
    "\n",
    "#Calculate accuracy based off three different scenarios\n",
    "if typed==target:\n",
    "    if typed_chars==target_chars:\n",
    "        accuracy=100\n",
    "    else:\n",
    "        accuracy=target_chars/(typed_chars)\n",
    "        \n",
    "elif typed!=target:\n",
    "    \n",
    "    #Create a list by splitting spaces \n",
    "    targetwords=target.split()\n",
    "    typedwords=typed.split()\n",
    "    \n",
    "    #Remove words from targetwords if there's a match in typedwords\n",
    "    for elem in typedwords:\n",
    "        if elem in targetwords:\n",
    "            targetwords.remove(elem)\n",
    "    \n",
    "    #Count the number of errors using targetwords\n",
    "    for elem in targetwords:\n",
    "        print(elem)\n",
    "        errors+=len(elem)\n",
    "    \n",
    "    accuracy=(target_chars-errors)/(typed_chars)\n",
    "    \n",
    "print(\"Target length:\",target_chars)\n",
    "print(\"Typed Length:\",typed_chars)\n",
    "print(\"Accuracy:\",accuracy)\n",
    "   "
   ]
  },
  {
   "cell_type": "code",
   "execution_count": 20,
   "metadata": {
    "collapsed": true
   },
   "outputs": [],
   "source": [
    "#Make a new column\n",
    "df['typed keys']=typed_chars\n",
    "df['accuracy']=accuracy"
   ]
  },
  {
   "cell_type": "code",
   "execution_count": 21,
   "metadata": {
    "collapsed": true
   },
   "outputs": [],
   "source": [
    "#Save as a new CSV\n",
    "outPath='C:\\\\Users\\\\nidhi\\\\Downloads\\\\MusicEdit\\\\'\n",
    "df.to_csv(outPath+fileName,index=False)\n",
    "        "
   ]
  },
  {
   "cell_type": "code",
   "execution_count": null,
   "metadata": {
    "collapsed": true
   },
   "outputs": [],
   "source": []
  }
 ],
 "metadata": {
  "kernelspec": {
   "display_name": "Python 3",
   "language": "python",
   "name": "python3"
  },
  "language_info": {
   "codemirror_mode": {
    "name": "ipython",
    "version": 3
   },
   "file_extension": ".py",
   "mimetype": "text/x-python",
   "name": "python",
   "nbconvert_exporter": "python",
   "pygments_lexer": "ipython3",
   "version": "3.6.0"
  }
 },
 "nbformat": 4,
 "nbformat_minor": 2
}
